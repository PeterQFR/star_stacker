{
 "cells": [
  {
   "cell_type": "code",
   "execution_count": 1,
   "metadata": {
    "collapsed": false
   },
   "outputs": [
    {
     "name": "stdout",
     "output_type": "stream",
     "text": [
      "Capturing image\n",
      "Camera file path: //capt0000.jpg\n",
      "('Copying image to', '/home/peter/Pictures/astro/test/capt0000.jpg')\n",
      "Capturing image\n",
      "Camera file path: //capt0001.jpg\n",
      "('Copying image to', '/home/peter/Pictures/astro/test/capt0001.jpg')\n",
      "Context cleaaared\n",
      "[[ 7.20541202e-01 -3.93498929e-02  1.47133624e+03]\n",
      " [-8.45714176e-02  8.57808714e-01  1.98219190e+02]\n",
      " [-4.84360042e-05 -9.76698931e-06  1.00000000e+00]]\n"
     ]
    },
    {
     "data": {
      "text/plain": [
       "32"
      ]
     },
     "execution_count": 1,
     "metadata": {},
     "output_type": "execute_result"
    }
   ],
   "source": [
    "import gphoto2 as gp\n",
    "import os \n",
    "import time\n",
    "import cv2\n",
    "import numpy as np\n",
    "\n",
    "cv2.namedWindow('img1', cv2.WINDOW_NORMAL)\n",
    "cv2.namedWindow('img2', cv2.WINDOW_NORMAL)\n",
    "cv2.namedWindow('img3', cv2.WINDOW_NORMAL)\n",
    "cv2.namedWindow('Captured_Image', cv2.WINDOW_NORMAL)\n",
    "context = gp.Context()\n",
    "camera = gp.Camera()\n",
    "camera.init(context)\n",
    "files=[]\n",
    "for i in range(2):\n",
    "    print('Capturing image')\n",
    "    file_path = camera.capture(gp.GP_CAPTURE_IMAGE, context)\n",
    "    print('Camera file path: {0}/{1}'.format(file_path.folder, file_path.name))\n",
    "    target = os.path.join(os.getcwd(), file_path.name)\n",
    "    files.append(target)\n",
    "    print('Copying image to', target)\n",
    "    camera_file = gp.check_result(camera.file_get(\n",
    "        file_path.folder, file_path.name, gp.GP_FILE_TYPE_NORMAL, context))\n",
    "    #file_data = gp.check_result(gp.gp_file_get_data_and_size(camera_file))\n",
    "    print('Img Size {}'.format(camera_file.size()))\n",
    "    camera_file.save(target)\n",
    "\n",
    "    img = cv2.imread(target)\n",
    "    cv2.imshow('Captured_Image', img)\n",
    "    cv2.waitKey(5000)\n",
    "camera.exit(context)\n",
    "print(\"Context cleaaared\")\n",
    "\n",
    "\n",
    " \n",
    "MAX_FEATURES = 500\n",
    "GOOD_MATCH_PERCENT = 0.15\n",
    " \n",
    "def alignImages(im1, im2):\n",
    " \n",
    "    # Convert images to grayscale\n",
    "    im1Gray = cv2.cvtColor(im1, cv2.COLOR_BGR2GRAY)\n",
    "    im2Gray = cv2.cvtColor(im2, cv2.COLOR_BGR2GRAY)\n",
    "   \n",
    "    # Detect ORB features and compute descriptors.\n",
    "    orb = cv2.ORB_create(MAX_FEATURES)\n",
    "    keypoints1, descriptors1 = orb.detectAndCompute(im1Gray, None)\n",
    "    keypoints2, descriptors2 = orb.detectAndCompute(im2Gray, None)\n",
    "   \n",
    "    # Match features.\n",
    "    matcher = cv2.DescriptorMatcher_create(cv2.DESCRIPTOR_MATCHER_BRUTEFORCE_HAMMING)\n",
    "    matches = matcher.match(descriptors1, descriptors2, None)\n",
    "   \n",
    "    # Sort matches by score\n",
    "    matches.sort(key=lambda x: x.distance, reverse=False)\n",
    " \n",
    "    # Remove not so good matches\n",
    "    numGoodMatches = int(len(matches) * GOOD_MATCH_PERCENT)\n",
    "    matches = matches[:numGoodMatches]\n",
    " \n",
    "    # Draw top matches\n",
    "    imMatches = cv2.drawMatches(im1, keypoints1, im2, keypoints2, matches, None)\n",
    "    cv2.imwrite(\"matches.jpg\", imMatches)\n",
    "   \n",
    "    # Extract location of good matches\n",
    "    points1 = np.zeros((len(matches), 2), dtype=np.float32)\n",
    "    points2 = np.zeros((len(matches), 2), dtype=np.float32)\n",
    " \n",
    "    for i, match in enumerate(matches):\n",
    "        points1[i, :] = keypoints1[match.queryIdx].pt\n",
    "        points2[i, :] = keypoints2[match.trainIdx].pt\n",
    "   \n",
    "    # Find homography\n",
    "    h, mask = cv2.findHomography(points1, points2, cv2.RANSAC)\n",
    "    \n",
    "    # Use homography\n",
    "    height, width, channels = im2.shape\n",
    "    im1Reg = cv2.warpPerspective(im1, h, (width, height))\n",
    "   \n",
    "    return im1Reg, h, mask\n",
    "\n",
    "img1 = cv2.imread(files[0])\n",
    "img2 = cv2.imread(files[1])\n",
    "\n",
    "imgAligned, h, mask = alignImages(img1, img2)\n",
    "print(h)\n",
    "img4 = (img2 + imgAligned)*0.5\n",
    "cv2.imshow('img1', img1)\n",
    "cv2.imshow('img2', img2)\n",
    "cv2.imshow('img3', imgAligned)\n",
    "cv2.imshow('img4', img4)\n",
    "cv2.waitKey(0)"
   ]
  },
  {
   "cell_type": "code",
   "execution_count": null,
   "metadata": {
    "collapsed": true
   },
   "outputs": [],
   "source": [
    "import os\n",
    "\n",
    "files = os.list_dir(os.getcwd())\n",
    "print(files)"
   ]
  },
  {
   "cell_type": "code",
   "execution_count": null,
   "metadata": {
    "collapsed": true
   },
   "outputs": [],
   "source": [
    "\n",
    "\n"
   ]
  },
  {
   "cell_type": "code",
   "execution_count": null,
   "metadata": {
    "collapsed": true
   },
   "outputs": [],
   "source": []
  }
 ],
 "metadata": {
  "kernelspec": {
   "display_name": "Python 2",
   "language": "python",
   "name": "python2"
  },
  "language_info": {
   "codemirror_mode": {
    "name": "ipython",
    "version": 2
   },
   "file_extension": ".py",
   "mimetype": "text/x-python",
   "name": "python",
   "nbconvert_exporter": "python",
   "pygments_lexer": "ipython2",
   "version": "2.7.12"
  }
 },
 "nbformat": 4,
 "nbformat_minor": 2
}
